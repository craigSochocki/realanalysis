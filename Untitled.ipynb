{
 "cells": [
  {
   "cell_type": "code",
   "execution_count": 1,
   "metadata": {},
   "outputs": [
    {
     "name": "stdout",
     "output_type": "stream",
     "text": [
      "{\"data\":{\"home\":{\"related_homes\":{\"count\":20,\"results\":[{\"property_id\":\"3263887176\",\"list_price\":179900,\"href\":\"https://www.realtor.com/realestateandhomes-detail/1021-Mayflower-Ave_Lincoln-Park_MI_48146_M32638-87176\",\"flags\":{\"is_contingent\":null,\"is_new_construction\":null,\"is_pending\":null,\"is_foreclosure\":null,\"is_new_listing\":true},\"status\":\"for_sale\",\"listing_id\":\"2922844889\",\"primary_photo\":{\"href\":\"https://ap.rdcpix.com/8697fb16f437a69e6a3b4ddd8f0efdbel-m2754999900xd-w300_h300_q80.jpg\"},\"description\":{\"baths\":2,\"baths_full\":null,\"baths_half\":null,\"beds\":4,\"sqft\":1296},\"location\":{\"address\":{\"city\":\"Lincoln Park\",\"country\":\"usa\",\"line\":\"1021 Mayflower Ave\"}}},{\"property_id\":\"4106239020\",\"list_price\":138000,\"href\":\"https://www.realtor.com/realestateandhomes-detail/1048-Vinewood-St_Wyandotte_MI_48192_M41062-39020\",\"flags\":{\"is_contingent\":true,\"is_new_construction\":null,\"is_pending\":null,\"is_foreclosure\":null,\"is_new_listing\":false},\"status\":\"for_sale\",\"listing_id\":\"2922406701\",\"primary_photo\":{\"href\":\"https://ap.rdcpix.com/a6341e5988f47a50d41d761c3aec3ab6l-m1037215383xd-w300_h300_q80.jpg\"},\"description\":{\"baths\":2,\"baths_full\":null,\"baths_half\":null,\"beds\":4,\"sqft\":1681},\"location\":{\"address\":{\"city\":\"Wyandotte\",\"country\":\"usa\",\"line\":\"1048 Vinewood St\"}}},{\"property_id\":\"3235687344\",\"list_price\":169000,\"href\":\"https://www.realtor.com/realestateandhomes-detail/2976-Chandler-Ave_Lincoln-Park_MI_48146_M32356-87344\",\"flags\":{\"is_contingent\":null,\"is_new_construction\":null,\"is_pending\":null,\"is_foreclosure\":null,\"is_new_listing\":false},\"status\":\"for_sale\",\"listing_id\":\"2922561341\",\"primary_photo\":{\"href\":\"https://ap.rdcpix.com/c8612e5afe4eb98ec9172fce09bf5374l-m142487249xd-w300_h300_q80.jpg\"},\"description\":{\"baths\":3,\"baths_full\":null,\"baths_half\":null,\"beds\":4,\"sqft\":1440},\"location\":{\"address\":{\"city\":\"Lincoln Park\",\"country\":\"usa\",\"line\":\"2976 Chandler Ave\"}}},{\"property_id\":\"4961930144\",\"list_price\":180000,\"href\":\"https://www.realtor.com/realestateandhomes-detail/14583-Poplar-St_Southgate_MI_48195_M49619-30144\",\"flags\":{\"is_contingent\":null,\"is_new_construction\":null,\"is_pending\":null,\"is_foreclosure\":null,\"is_new_listing\":true},\"status\":\"for_sale\",\"listing_id\":\"2922649998\",\"primary_photo\":{\"href\":\"https://ap.rdcpix.com/07540d92eb55a4b9a77db827f33d1d46l-m841903193xd-w300_h300_q80.jpg\"},\"description\":{\"baths\":1,\"baths_full\":null,\"baths_half\":null,\"beds\":3,\"sqft\":1369},\"location\":{\"address\":{\"city\":\"Southgate\",\"country\":\"usa\",\"line\":\"14583 Poplar St\"}}},{\"property_id\":\"3609836366\",\"list_price\":180000,\"href\":\"https://www.realtor.com/realestateandhomes-detail/192-Antoine-St_Wyandotte_MI_48192_M36098-36366\",\"flags\":{\"is_contingent\":null,\"is_new_construction\":null,\"is_pending\":null,\"is_foreclosure\":null,\"is_new_listing\":false},\"status\":\"for_sale\",\"listing_id\":\"2921550926\",\"primary_photo\":{\"href\":\"https://ap.rdcpix.com/d710865021fbc46d2e997ef8e1461f4al-m1664564752xd-w300_h300_q80.jpg\"},\"description\":{\"baths\":2,\"baths_full\":null,\"baths_half\":null,\"beds\":4,\"sqft\":1904},\"location\":{\"address\":{\"city\":\"Wyandotte\",\"country\":\"usa\",\"line\":\"192 Antoine St\"}}},{\"property_id\":\"3259797368\",\"list_price\":190000,\"href\":\"https://www.realtor.com/realestateandhomes-detail/1105-3rd-St_Wyandotte_MI_48192_M32597-97368\",\"flags\":{\"is_contingent\":null,\"is_new_construction\":null,\"is_pending\":null,\"is_foreclosure\":null,\"is_new_listing\":false},\"status\":\"for_sale\",\"listing_id\":\"2922309947\",\"primary_photo\":{\"href\":\"https://ap.rdcpix.com/554899faccec285e5175cb6daf52f565l-m359902100xd-w300_h300_q80.jpg\"},\"description\":{\"baths\":3,\"baths_full\":null,\"baths_half\":null,\"beds\":3,\"sqft\":1512},\"location\":{\"address\":{\"city\":\"Wyandotte\",\"country\":\"usa\",\"line\":\"1105 3rd St\"}}},{\"property_id\":\"3537494429\",\"list_price\":165000,\"href\":\"https://www.realtor.com/realestateandhomes-detail/921-Sycamore-St_Wyandotte_MI_48192_M35374-94429\",\"flags\":{\"is_contingent\":null,\"is_new_construction\":null,\"is_pending\":null,\"is_foreclosure\":null,\"is_new_listing\":false},\"status\":\"for_sale\",\"listing_id\":\"2922576743\",\"primary_photo\":{\"href\":\"https://ap.rdcpix.com/17049aed6fe0f5acddfe374a0fb68edfl-m3694532844xd-w300_h300_q80.jpg\"},\"description\":{\"baths\":2,\"baths_full\":null,\"baths_half\":null,\"beds\":3,\"sqft\":1166},\"location\":{\"address\":{\"city\":\"Wyandotte\",\"country\":\"usa\",\"line\":\"921 Sycamore St\"}}},{\"property_id\":\"4780740686\",\"list_price\":209900,\"href\":\"https://www.realtor.com/realestateandhomes-detail/163-Spruce-St_Wyandotte_MI_48192_M47807-40686\",\"flags\":{\"is_contingent\":null,\"is_new_construction\":null,\"is_pending\":null,\"is_foreclosure\":null,\"is_new_listing\":false},\"status\":\"for_sale\",\"listing_id\":\"2922595183\",\"primary_photo\":{\"href\":\"https://ap.rdcpix.com/cd7c2a588ba538b869a7c8ada0465ecbl-m607547443xd-w300_h300_q80.jpg\"},\"description\":{\"baths\":2,\"baths_full\":null,\"baths_half\":null,\"beds\":3,\"sqft\":1450},\"location\":{\"address\":{\"city\":\"Wyandotte\",\"country\":\"usa\",\"line\":\"163 Spruce St\"}}},{\"property_id\":\"4997075780\",\"list_price\":189000,\"href\":\"https://www.realtor.com/realestateandhomes-detail/7427-Rosedale-Blvd_Allen-Park_MI_48101_M49970-75780\",\"flags\":{\"is_contingent\":null,\"is_new_construction\":null,\"is_pending\":null,\"is_foreclosure\":null,\"is_new_listing\":true},\"status\":\"for_sale\",\"listing_id\":\"2922824360\",\"primary_photo\":{\"href\":\"https://ap.rdcpix.com/8a4e2a0a71bdbcbeeb642d0cfc540d97l-m440642840xd-w300_h300_q80.jpg\"},\"description\":{\"baths\":2,\"baths_full\":null,\"baths_half\":null,\"beds\":3,\"sqft\":1888},\"location\":{\"address\":{\"city\":\"Allen Park\",\"country\":\"usa\",\"line\":\"7427 Rosedale Blvd\"}}},{\"property_id\":\"3218362898\",\"list_price\":169000,\"href\":\"https://www.realtor.com/realestateandhomes-detail/15689-Scott-St_Southgate_MI_48195_M32183-62898\",\"flags\":{\"is_contingent\":true,\"is_new_construction\":null,\"is_pending\":null,\"is_foreclosure\":null,\"is_new_listing\":true},\"status\":\"for_sale\",\"listing_id\":\"2922639436\",\"primary_photo\":{\"href\":\"https://ap.rdcpix.com/a7ccb7d713bd80c5bdee5b4553964bfal-m886929677xd-w300_h300_q80.jpg\"},\"description\":{\"baths\":2,\"baths_full\":null,\"baths_half\":null,\"beds\":3,\"sqft\":1285},\"location\":{\"address\":{\"city\":\"Southgate\",\"country\":\"usa\",\"line\":\"15689 Scott St\"}}},{\"property_id\":\"4923546224\",\"list_price\":200000,\"href\":\"https://www.realtor.com/realestateandhomes-detail/13694-Mulberry-St_Southgate_MI_48195_M49235-46224\",\"flags\":{\"is_contingent\":null,\"is_new_construction\":null,\"is_pending\":null,\"is_foreclosure\":null,\"is_new_listing\":false},\"status\":\"for_sale\",\"listing_id\":\"2922542858\",\"primary_photo\":{\"href\":\"https://ap.rdcpix.com/69610f93753d378daee9dab0f538089bl-m4092502492xd-w300_h300_q80.jpg\"},\"description\":{\"baths\":2,\"baths_full\":null,\"baths_half\":null,\"beds\":3,\"sqft\":1310},\"location\":{\"address\":{\"city\":\"Southgate\",\"country\":\"usa\",\"line\":\"13694 Mulberry St\"}}},{\"property_id\":\"3618734183\",\"list_price\":214999,\"href\":\"https://www.realtor.com/realestateandhomes-detail/13152-Veronica-St_Southgate_MI_48195_M36187-34183\",\"flags\":{\"is_contingent\":null,\"is_new_construction\":null,\"is_pending\":null,\"is_foreclosure\":null,\"is_new_listing\":false},\"status\":\"for_sale\",\"listing_id\":\"2922525779\",\"primary_photo\":{\"href\":\"https://ap.rdcpix.com/5ab503b710f3d30453f123238b204871l-m3561587906xd-w300_h300_q80.jpg\"},\"description\":{\"baths\":3,\"baths_full\":null,\"baths_half\":null,\"beds\":3,\"sqft\":1520},\"location\":{\"address\":{\"city\":\"Southgate\",\"country\":\"usa\",\"line\":\"13152 Veronica St\"}}},{\"property_id\":\"4528524604\",\"list_price\":185000,\"href\":\"https://www.realtor.com/realestateandhomes-detail/14748-Pennsylvania-Rd_Southgate_MI_48195_M45285-24604\",\"flags\":{\"is_contingent\":null,\"is_new_construction\":null,\"is_pending\":null,\"is_foreclosure\":null,\"is_new_listing\":true},\"status\":\"for_sale\",\"listing_id\":\"2922813619\",\"primary_photo\":{\"href\":\"https://ap.rdcpix.com/56a0f7e449a56cfb03857d6b4889aa48l-m2002489950xd-w300_h300_q80.jpg\"},\"description\":{\"baths\":2,\"baths_full\":null,\"baths_half\":null,\"beds\":3,\"sqft\":1134},\"location\":{\"address\":{\"city\":\"Southgate\",\"country\":\"usa\",\"line\":\"14748 Pennsylvania Rd\"}}},{\"property_id\":\"4116930677\",\"list_price\":210000,\"href\":\"https://www.realtor.com/realestateandhomes-detail/13406-Trenton-Rd_Southgate_MI_48195_M41169-30677\",\"flags\":{\"is_contingent\":null,\"is_new_construction\":null,\"is_pending\":null,\"is_foreclosure\":null,\"is_new_listing\":false},\"status\":\"for_sale\",\"listing_id\":\"2922543463\",\"primary_photo\":{\"href\":\"https://ap.rdcpix.com/dfb0f175087efd71bc20a129b14eac1fl-m322129783xd-w300_h300_q80.jpg\"},\"description\":{\"baths\":1,\"baths_full\":null,\"baths_half\":null,\"beds\":3,\"sqft\":1386},\"location\":{\"address\":{\"city\":\"Southgate\",\"country\":\"usa\",\"line\":\"13406 Trenton Rd\"}}},{\"property_id\":\"4174220322\",\"list_price\":189900,\"href\":\"https://www.realtor.com/realestateandhomes-detail/707-Emmons-Blvd_Wyandotte_MI_48192_M41742-20322\",\"flags\":{\"is_contingent\":null,\"is_new_construction\":null,\"is_pending\":null,\"is_foreclosure\":null,\"is_new_listing\":false},\"status\":\"for_sale\",\"listing_id\":\"2921696471\",\"primary_photo\":{\"href\":\"https://ap.rdcpix.com/dbb33f4f5640cb757541fb6350ce0584l-m1963070620xd-w300_h300_q80.jpg\"},\"description\":{\"baths\":3,\"baths_full\":null,\"baths_half\":null,\"beds\":4,\"sqft\":1733},\"location\":{\"address\":{\"city\":\"Wyandotte\",\"country\":\"usa\",\"line\":\"707 Emmons Blvd\"}}},{\"property_id\":\"4930034350\",\"list_price\":215000,\"href\":\"https://www.realtor.com/realestateandhomes-detail/7505-Park-Ave_Allen-Park_MI_48101_M49300-34350\",\"flags\":{\"is_contingent\":null,\"is_new_construction\":null,\"is_pending\":null,\"is_foreclosure\":null,\"is_new_listing\":false},\"status\":\"for_sale\",\"listing_id\":\"2922465779\",\"primary_photo\":{\"href\":\"https://ap.rdcpix.com/eaa01fbe5eead9cb14148855c75b9202l-m354718376xd-w300_h300_q80.jpg\"},\"description\":{\"baths\":2,\"baths_full\":null,\"baths_half\":null,\"beds\":3,\"sqft\":1566},\"location\":{\"address\":{\"city\":\"Allen Park\",\"country\":\"usa\",\"line\":\"7505 Park Ave\"}}},{\"property_id\":\"3703821073\",\"list_price\":174900,\"href\":\"https://www.realtor.com/realestateandhomes-detail/212-Vinewood-St_Wyandotte_MI_48192_M37038-21073\",\"flags\":{\"is_contingent\":null,\"is_new_construction\":null,\"is_pending\":null,\"is_foreclosure\":null,\"is_new_listing\":false},\"status\":\"for_sale\",\"listing_id\":\"2922526380\",\"primary_photo\":{\"href\":\"https://ap.rdcpix.com/5077ec17790662c3e9f1bcf8d2e3d010l-m2455200043xd-w300_h300_q80.jpg\"},\"description\":{\"baths\":1,\"baths_full\":null,\"baths_half\":null,\"beds\":2,\"sqft\":1176},\"location\":{\"address\":{\"city\":\"Wyandotte\",\"country\":\"usa\",\"line\":\"212 Vinewood St\"}}},{\"property_id\":\"4645477207\",\"list_price\":179900,\"href\":\"https://www.realtor.com/realestateandhomes-detail/3441-20th-St_Wyandotte_MI_48192_M46454-77207\",\"flags\":{\"is_contingent\":null,\"is_new_construction\":null,\"is_pending\":null,\"is_foreclosure\":null,\"is_new_listing\":true},\"status\":\"for_sale\",\"listing_id\":\"2922882380\",\"primary_photo\":{\"href\":\"https://ap.rdcpix.com/b44a0e5fa33e4af9720eaac761fb17d6l-m2922801202xd-w300_h300_q80.jpg\"},\"description\":{\"baths\":2,\"baths_full\":null,\"baths_half\":null,\"beds\":3,\"sqft\":1250},\"location\":{\"address\":{\"city\":\"Wyandotte\",\"country\":\"usa\",\"line\":\"3441 20th St\"}}},{\"property_id\":\"4866533184\",\"list_price\":184000,\"href\":\"https://www.realtor.com/realestateandhomes-detail/15769-Aster-Ave_Allen-Park_MI_48101_M48665-33184\",\"flags\":{\"is_contingent\":null,\"is_new_construction\":null,\"is_pending\":null,\"is_foreclosure\":null,\"is_new_listing\":false},\"status\":\"for_sale\",\"listing_id\":\"2922153199\",\"primary_photo\":{\"href\":\"https://ap.rdcpix.com/8339b18bad715277a7fa7c3dc1d660fel-m1006561991xd-w300_h300_q80.jpg\"},\"description\":{\"baths\":3,\"baths_full\":null,\"baths_half\":null,\"beds\":4,\"sqft\":1972},\"location\":{\"address\":{\"city\":\"Allen Park\",\"country\":\"usa\",\"line\":\"15769 Aster Ave\"}}},{\"property_id\":\"4205750459\",\"list_price\":179000,\"href\":\"https://www.realtor.com/realestateandhomes-detail/13063-Racho-School-Dr_Taylor_MI_48180_M42057-50459\",\"flags\":{\"is_contingent\":null,\"is_new_construction\":null,\"is_pending\":null,\"is_foreclosure\":null,\"is_new_listing\":true},\"status\":\"for_sale\",\"listing_id\":\"2922886702\",\"primary_photo\":{\"href\":\"https://ap.rdcpix.com/fb5daa28cf60526ba109555ebab91986l-m2856481137xd-w300_h300_q80.jpg\"},\"description\":{\"baths\":2,\"baths_full\":null,\"baths_half\":null,\"beds\":3,\"sqft\":1400},\"location\":{\"address\":{\"city\":\"Taylor\",\"country\":\"usa\",\"line\":\"13063 Racho School Dr\"}}}],\"impression_token\":{\"product\":\"ir_platform\",\"type\":\"impression_token\",\"api_route\":\"similarhomestradeoffs\",\"module_name\":\"SimilarHomes\",\"algo_name\":\"MLBased\",\"algo_version\":\"1.0\",\"model_name\":\"LightGBM\",\"module_type\":\"fs-to-fs\",\"model_version\":\"1.0\",\"impression_id\":\"ckgzyec571t4v01lchq1grtv0\",\"recommendations_count\":20,\"client_id\":\"rdc-x-hestia.graphql.server\"}}}}}\n"
     ]
    }
   ],
   "source": [
    "import requests\n",
    "\n",
    "url = \"https://realtor.p.rapidapi.com/properties/v2/list-similar-homes\"\n",
    "\n",
    "querystring = {\"property_id\":\"4987661315\"}\n",
    "\n",
    "headers = {\n",
    "    'x-rapidapi-host': \"realtor.p.rapidapi.com\",\n",
    "    'x-rapidapi-key': \"f3d8bd7f30mshe1d15bb4bf184dep1a4e3cjsnb07a64196482\"\n",
    "    }\n",
    "\n",
    "response = requests.request(\"GET\", url, headers=headers, params=querystring)\n",
    "\n",
    "print(response.text)"
   ]
  },
  {
   "cell_type": "code",
   "execution_count": 5,
   "metadata": {},
   "outputs": [],
   "source": [
    "import pandas as pd\n",
    "import json"
   ]
  },
  {
   "cell_type": "code",
   "execution_count": 7,
   "metadata": {},
   "outputs": [],
   "source": [
    "data = json.loads(response.text)"
   ]
  },
  {
   "cell_type": "code",
   "execution_count": 19,
   "metadata": {},
   "outputs": [],
   "source": [
    "df = pd.DataFrame(data['data']['home']['related_homes']['results'])"
   ]
  },
  {
   "cell_type": "code",
   "execution_count": 52,
   "metadata": {},
   "outputs": [],
   "source": [
    "df['primary_photo'] = df['primary_photo'].apply(lambda x: x['href'])"
   ]
  },
  {
   "cell_type": "code",
   "execution_count": 54,
   "metadata": {},
   "outputs": [],
   "source": [
    "def convert_url_to_image(url):\n",
    "    return \"<img src=\" + url + \" />\""
   ]
  },
  {
   "cell_type": "code",
   "execution_count": 46,
   "metadata": {},
   "outputs": [
    {
     "data": {
      "text/plain": [
       "<zip at 0x1b9baffda88>"
      ]
     },
     "execution_count": 46,
     "metadata": {},
     "output_type": "execute_result"
    }
   ],
   "source": [
    "convert_url_to_image(df.primary_photo)"
   ]
  },
  {
   "cell_type": "code",
   "execution_count": 55,
   "metadata": {},
   "outputs": [],
   "source": [
    "df.to_html('comps.html',escape=False, formatters=dict(primary_photo=convert_url_to_image))"
   ]
  },
  {
   "cell_type": "code",
   "execution_count": null,
   "metadata": {},
   "outputs": [],
   "source": []
  }
 ],
 "metadata": {
  "kernelspec": {
   "display_name": "Python 3",
   "language": "python",
   "name": "python3"
  },
  "language_info": {
   "codemirror_mode": {
    "name": "ipython",
    "version": 3
   },
   "file_extension": ".py",
   "mimetype": "text/x-python",
   "name": "python",
   "nbconvert_exporter": "python",
   "pygments_lexer": "ipython3",
   "version": "3.7.3"
  }
 },
 "nbformat": 4,
 "nbformat_minor": 4
}
