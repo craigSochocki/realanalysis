{
 "cells": [
  {
   "cell_type": "markdown",
   "metadata": {},
   "source": [
    "# Get City Data "
   ]
  },
  {
   "cell_type": "code",
   "execution_count": 1,
   "metadata": {},
   "outputs": [
    {
     "name": "stdout",
     "output_type": "stream",
     "text": [
      "Wyandotte\n",
      "Ferndale\n",
      "Grosse Pointe\n",
      "Hazel Park\n",
      "Royal Oak\n",
      "wyandotte.txt created!\n",
      "ferndale.txt created!\n",
      "grossepointe.txt created!\n",
      "hazelpark.txt created!\n",
      "royaloak.txt created!\n"
     ]
    }
   ],
   "source": [
    "import requests\n",
    "from pprint import pprint\n",
    "import json\n",
    "\n",
    "cities = ['Wyandotte','Ferndale','Grosse Pointe', 'Hazel Park', 'Royal Oak']\n",
    "\n",
    "for city in cities:\n",
    "    print(city)\n",
    "\n",
    "def generate_data(cities, state):\n",
    "    for city in cities:\n",
    "        \n",
    "        req_city = city\n",
    "        req_state = state\n",
    "\n",
    "        url = \"https://realtor.p.rapidapi.com/properties/v2/list-for-sale\"\n",
    "\n",
    "        querystring = {\"sort\":\"relevance\",\"city\":req_city,\"limit\":\"2000\",\"offset\":\"0\",\"state_code\":req_state}\n",
    "\n",
    "        headers = {\n",
    "            'x-rapidapi-host': \"realtor.p.rapidapi.com\",\n",
    "            'x-rapidapi-key': \"f3d8bd7f30mshe1d15bb4bf184dep1a4e3cjsnb07a64196482\"\n",
    "            }\n",
    "\n",
    "        response = requests.request(\"GET\", url, headers=headers, params=querystring)\n",
    "\n",
    "        res = json.loads(response.text)\n",
    "        \n",
    "        filename = city.lower().replace(\" \",\"\")\n",
    "        with open(f\"{filename}.txt\",'w') as f:\n",
    "            json.dump(res, f)\n",
    "        \n",
    "        print(f\"{filename}.txt created!\")\n",
    "\n",
    "generate_data(cities, \"MI\")"
   ]
  },
  {
   "cell_type": "code",
   "execution_count": 6,
   "metadata": {},
   "outputs": [
    {
     "name": "stdout",
     "output_type": "stream",
     "text": [
      "Wyandotte\n",
      "Ferndale\n",
      "Grosse Pointe\n",
      "Hazel Park\n",
      "Royal Oak\n",
      "data.txt created!\n"
     ]
    }
   ],
   "source": [
    "import requests\n",
    "from pprint import pprint\n",
    "import json\n",
    "\n",
    "cities = ['Wyandotte','Ferndale','Grosse Pointe', 'Hazel Park', 'Royal Oak']\n",
    "\n",
    "for city in cities:\n",
    "    print(city)\n",
    "\n",
    "def generate_data(cities, state):\n",
    "    res = []\n",
    "    for city in cities:\n",
    "        \n",
    "        req_city = city\n",
    "        req_state = state\n",
    "\n",
    "        url = \"https://realtor.p.rapidapi.com/properties/v2/list-for-sale\"\n",
    "\n",
    "        querystring = {\"sort\":\"relevance\",\"city\":req_city,\"limit\":\"2000\",\"offset\":\"0\",\"state_code\":req_state}\n",
    "\n",
    "        headers = {\n",
    "            'x-rapidapi-host': \"realtor.p.rapidapi.com\",\n",
    "            'x-rapidapi-key': \"f3d8bd7f30mshe1d15bb4bf184dep1a4e3cjsnb07a64196482\"\n",
    "            }\n",
    "\n",
    "        response = requests.request(\"GET\", url, headers=headers, params=querystring)\n",
    "        \n",
    "        props_list = json.loads(response.text)['properties']\n",
    "        \n",
    "        res.append(props_list)\n",
    "        #res.update(json.loads(response.text)['properties'])\n",
    "        \n",
    "    filename = \"data\"\n",
    "    with open(f\"{filename}.txt\",'w') as f:\n",
    "        json.dump(res, f)\n",
    "        \n",
    "        print(f\"{filename}.txt created!\")\n",
    "\n",
    "generate_data(cities, \"MI\")"
   ]
  },
  {
   "cell_type": "code",
   "execution_count": 7,
   "metadata": {},
   "outputs": [
    {
     "name": "stdout",
     "output_type": "stream",
     "text": [
      "101\n",
      "196\n",
      "230\n",
      "294\n",
      "494\n"
     ]
    }
   ],
   "source": [
    "props_list = []\n",
    "for city in cities:\n",
    "\n",
    "    req_city = city\n",
    "    req_state = \"MI\"\n",
    "\n",
    "    url = \"https://realtor.p.rapidapi.com/properties/v2/list-for-sale\"\n",
    "\n",
    "    querystring = {\"sort\":\"relevance\",\"city\":req_city,\"limit\":\"2000\",\"offset\":\"0\",\"state_code\":req_state}\n",
    "\n",
    "    headers = {\n",
    "        'x-rapidapi-host': \"realtor.p.rapidapi.com\",\n",
    "        'x-rapidapi-key': \"f3d8bd7f30mshe1d15bb4bf184dep1a4e3cjsnb07a64196482\"\n",
    "        }\n",
    "\n",
    "    response = requests.request(\"GET\", url, headers=headers, params=querystring)\n",
    "\n",
    "    props_list.extend(json.loads(response.text)['properties'])\n",
    "    print(len(props_list))\n",
    "    #res.update(json.loads(response.text)['properties'])\n"
   ]
  },
  {
   "cell_type": "code",
   "execution_count": 8,
   "metadata": {},
   "outputs": [
    {
     "name": "stdout",
     "output_type": "stream",
     "text": [
      "data.txt created!\n"
     ]
    }
   ],
   "source": [
    "filename = \"data\"\n",
    "with open(f\"{filename}.txt\",'w') as f:\n",
    "    json.dump(props_list, f)\n",
    "\n",
    "    print(f\"{filename}.txt created!\")"
   ]
  },
  {
   "cell_type": "code",
   "execution_count": 131,
   "metadata": {},
   "outputs": [
    {
     "data": {
      "text/plain": [
       "535"
      ]
     },
     "execution_count": 131,
     "metadata": {},
     "output_type": "execute_result"
    }
   ],
   "source": [
    "len(props_list)"
   ]
  },
  {
   "cell_type": "code",
   "execution_count": null,
   "metadata": {},
   "outputs": [],
   "source": []
  }
 ],
 "metadata": {
  "kernelspec": {
   "display_name": "Python 3",
   "language": "python",
   "name": "python3"
  },
  "language_info": {
   "codemirror_mode": {
    "name": "ipython",
    "version": 3
   },
   "file_extension": ".py",
   "mimetype": "text/x-python",
   "name": "python",
   "nbconvert_exporter": "python",
   "pygments_lexer": "ipython3",
   "version": "3.7.3"
  }
 },
 "nbformat": 4,
 "nbformat_minor": 4
}
